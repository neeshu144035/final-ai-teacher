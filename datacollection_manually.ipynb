{
 "cells": [
  {
   "cell_type": "code",
   "execution_count": 1,
   "id": "6ade1320-5420-4300-a019-893271864536",
   "metadata": {},
   "outputs": [
    {
     "name": "stdin",
     "output_type": "stream",
     "text": [
      "Enter the topic name (or type 'exit' to stop):   CHAPTER  1    Chemical Reactions  and Equation\n",
      "Enter the content for this topic:  Consider the following situations of daily life and think what happens  when  n milk is left at room temperature during summers.  n an iron tawa/pan/nail is left exposed to humid atmosphere.  n grapes get fermented.  n food is cooked.  n food gets digested in our body.  n we respire.  In all the above situations, the nature and the identity of the initial  substance have somewhat changed. We have already learnt about physical  and chemical changes of matter in our previous classes. Whenever a chemical  change occurs, we can say that a chemical reaction has taken place.  You may perhaps be wondering as to what is actually meant by a  chemical reaction. How do we come to know that a chemical reaction  has taken place? Let us perform some activities to find the answer to  these questions. Activity 1.1  Activity 1.1  Activity 1.1  CAUTION: This Activity needs  the teacher’s assistance. It  would be better if students  wear suitable eyeglasses.  n Clean a magnesium ribbon  about 3-4 cm long by rubbing  it with sandpaper.  n Hold it with a pair of tongs.  Burn it using a spirit lamp or  burner and collect the ash so  formed in a watch-glass as  shown in Fig. 1.1. Burn  the  magnesium ribbon keeping it  away as far as possible from  your eyes.  n What do you observe Figure 1.1  Burning of a magnesium ribbon in air and collection of magnesium  oxide in a watch-glass You must have observed that magnesium ribbon burns with a  dazzling white flame and changes into a white powder. This powder is  magnesium oxide. It is formed due to the reaction between magnesium  and oxygen present in the air Activity 1.2  Activity 1.2  Activity 1.2  n Take lead nitrate  solution in a test  tube.  n Add potassium  iodide solution  to this.  n What do you  observeActivity 1.3  Activity 1.3  Activity 1.3  n Take a few zinc granules in a conical flask or a test tube.  n Add dilute hydrochloric acid or sulphuric acid to this  (Fig. 1.2).  CAUTION: Handle the acid with care.  n Do you observe anything happening around the zinc  granules?  n Touch the conical flask or test tube. Is there any change in  its temperature?  From the above three activities, we can say that any of  the following observations helps us to determine whether  a chemical reaction has taken place  Figure 1.2  Formation of hydrogen  gas by the action of  dilute sulphuric acid on  zinc  n change in state  n change in colour  n evolution of a gas  n change in temperature.  As we observe the changes around us, we can see  that there is a large variety of chemical reactions taking  place around us. We will study about the various types  of chemical reactions and their symbolic representation  in this Chapter.\n",
      "Enter the topic name (or type 'exit' to stop):  1.1 CHEMIC  1.1 CHEMIC  1.1 CHEMICAL EQUA  AL EQUA  AL EQUATIONS\n",
      "Enter the content for this topic:   Activity 1.1 can be described as – when a magnesium ribbon is burnt in  oxygen, it gets converted to magnesium oxide. This description of a  chemical reaction in a sentence form is quite long. It can be written in a  shorter form. The simplest way to do this is to write it in the form of a  word-equation.  The word-equation for the above reaction would be  Magnesium + Oxygen → Magnesium oxide             (Reactants)  (1.1)  (Product)  The substances that undergo chemical change in the reaction (1.1),  magnesium and oxygen, are the reactants. The new substance is  magnesium oxide, formed during the reaction, as a product.  A word-equation shows change of reactants to products through an  arrow placed between them. The reactants are written on the left-hand  side (LHS) with a plus sign (+) between them. Similarly, products are  written on the right-hand side (RHS) with a plus sign (+) between them.  The arrowhead points towards the products, and shows the direction of  the reaction\n",
      "Enter the topic name (or type 'exit' to stop):  exit\n"
     ]
    },
    {
     "name": "stdout",
     "output_type": "stream",
     "text": [
      "JSON file 'topics.json' created successfully!\n"
     ]
    }
   ],
   "source": [
    "import json\n",
    "\n",
    "def create_json():\n",
    "    data = {}\n",
    "    \n",
    "    while True:\n",
    "        heading = input(\"Enter the topic name (or type 'exit' to stop): \")\n",
    "        if heading.lower() == 'exit':\n",
    "            break\n",
    "        \n",
    "        subtopic = input(\"Enter the content for this topic: \")\n",
    "        data[heading] = subtopic\n",
    "    \n",
    "    with open(\"topics.json\", \"w\") as file:\n",
    "        json.dump(data, file, indent=4)\n",
    "    \n",
    "    print(\"JSON file 'topics.json' created successfully!\")\n",
    "\n",
    "if __name__ == \"__main__\":\n",
    "    create_json()\n"
   ]
  },
  {
   "cell_type": "code",
   "execution_count": null,
   "id": "3a1aaea6-9c48-41a4-ae47-812fecde6840",
   "metadata": {},
   "outputs": [],
   "source": []
  }
 ],
 "metadata": {
  "kernelspec": {
   "display_name": "Python 3 (ipykernel)",
   "language": "python",
   "name": "python3"
  },
  "language_info": {
   "codemirror_mode": {
    "name": "ipython",
    "version": 3
   },
   "file_extension": ".py",
   "mimetype": "text/x-python",
   "name": "python",
   "nbconvert_exporter": "python",
   "pygments_lexer": "ipython3",
   "version": "3.10.9"
  }
 },
 "nbformat": 4,
 "nbformat_minor": 5
}
